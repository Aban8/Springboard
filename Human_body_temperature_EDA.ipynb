{
 "cells": [
  {
   "cell_type": "code",
   "execution_count": 4,
   "metadata": {},
   "outputs": [],
   "source": [
    "import pandas as pd\n",
    "import numpy as np\n",
    "import matplotlib.pyplot as plt\n",
    "import seaborn as sns\n",
    "from scipy import stats"
   ]
  },
  {
   "cell_type": "code",
   "execution_count": 5,
   "metadata": {},
   "outputs": [
    {
     "name": "stdout",
     "output_type": "stream",
     "text": [
      "<class 'pandas.core.frame.DataFrame'>\n",
      "RangeIndex: 130 entries, 0 to 129\n",
      "Data columns (total 3 columns):\n",
      "temperature    130 non-null float64\n",
      "gender         130 non-null object\n",
      "heart_rate     130 non-null float64\n",
      "dtypes: float64(2), object(1)\n",
      "memory usage: 3.2+ KB\n"
     ]
    },
    {
     "data": {
      "text/html": [
       "<div>\n",
       "<style scoped>\n",
       "    .dataframe tbody tr th:only-of-type {\n",
       "        vertical-align: middle;\n",
       "    }\n",
       "\n",
       "    .dataframe tbody tr th {\n",
       "        vertical-align: top;\n",
       "    }\n",
       "\n",
       "    .dataframe thead th {\n",
       "        text-align: right;\n",
       "    }\n",
       "</style>\n",
       "<table border=\"1\" class=\"dataframe\">\n",
       "  <thead>\n",
       "    <tr style=\"text-align: right;\">\n",
       "      <th></th>\n",
       "      <th>temperature</th>\n",
       "      <th>gender</th>\n",
       "      <th>heart_rate</th>\n",
       "    </tr>\n",
       "  </thead>\n",
       "  <tbody>\n",
       "    <tr>\n",
       "      <th>0</th>\n",
       "      <td>99.3</td>\n",
       "      <td>F</td>\n",
       "      <td>68.0</td>\n",
       "    </tr>\n",
       "    <tr>\n",
       "      <th>1</th>\n",
       "      <td>98.4</td>\n",
       "      <td>F</td>\n",
       "      <td>81.0</td>\n",
       "    </tr>\n",
       "    <tr>\n",
       "      <th>2</th>\n",
       "      <td>97.8</td>\n",
       "      <td>M</td>\n",
       "      <td>73.0</td>\n",
       "    </tr>\n",
       "    <tr>\n",
       "      <th>3</th>\n",
       "      <td>99.2</td>\n",
       "      <td>F</td>\n",
       "      <td>66.0</td>\n",
       "    </tr>\n",
       "    <tr>\n",
       "      <th>4</th>\n",
       "      <td>98.0</td>\n",
       "      <td>F</td>\n",
       "      <td>73.0</td>\n",
       "    </tr>\n",
       "  </tbody>\n",
       "</table>\n",
       "</div>"
      ],
      "text/plain": [
       "   temperature gender  heart_rate\n",
       "0         99.3      F        68.0\n",
       "1         98.4      F        81.0\n",
       "2         97.8      M        73.0\n",
       "3         99.2      F        66.0\n",
       "4         98.0      F        73.0"
      ]
     },
     "execution_count": 5,
     "metadata": {},
     "output_type": "execute_result"
    }
   ],
   "source": [
    "# Read and save dataset as a dataframe:\n",
    "df = pd.read_csv('human_body_temperature.csv')\n",
    "\n",
    "# Inspect the columns of the dataframe:\n",
    "df.info()\n",
    "\n",
    "# Inspect the values of the dataframe:\n",
    "df.head()"
   ]
  },
  {
   "cell_type": "code",
   "execution_count": 6,
   "metadata": {},
   "outputs": [
    {
     "data": {
      "text/plain": [
       "temperature    0\n",
       "gender         0\n",
       "heart_rate     0\n",
       "dtype: int64"
      ]
     },
     "execution_count": 6,
     "metadata": {},
     "output_type": "execute_result"
    }
   ],
   "source": [
    "# xheck NULL count for each column in the dataframe:\n",
    "df.isnull().sum()"
   ]
  },
  {
   "cell_type": "code",
   "execution_count": 7,
   "metadata": {},
   "outputs": [
    {
     "data": {
      "image/png": "[encoded data removed]",
      "text/plain": [
       "<Figure size 432x288 with 1 Axes>"
      ]
     },
     "metadata": {},
     "output_type": "display_data"
    }
   ],
   "source": [
    "sns.set()\n",
    "n_bins = int(np.sqrt(len(df['temperature'])))\n",
    "#_ = plt.hist(df['temperature'])\n",
    "_ = plt.hist(df['temperature'], bins=n_bins)\n",
    "_ = plt.xlabel('Temperature')\n",
    "_ = plt.ylabel('Number of observations')\n",
    "_ = plt.title('Distribution of Body Temperatures')\n",
    "plt.show()"
   ]
  },
  {
   "cell_type": "code",
   "execution_count": 8,
   "metadata": {},
   "outputs": [
    {
     "name": "stdout",
     "output_type": "stream",
     "text": [
      "Sample size = 130\n",
      "Mean = 98.24923076923075\n",
      "Standard deviation = 0.730357778905038\n"
     ]
    }
   ],
   "source": [
    "temp = np.array(df['temperature'])\n",
    "n = len(temp)\n",
    "\n",
    "#Computing the mean and standard deviation of the data\n",
    "temp_mean = np.mean(temp)\n",
    "temp_std = np.std(temp)\n",
    "\n",
    "#Display the statistics for sample data:\n",
    "print('Sample size =', n)\n",
    "print('Mean =', temp_mean)\n",
    "print('Standard deviation =', temp_std)"
   ]
  },
  {
   "cell_type": "code",
   "execution_count": 9,
   "metadata": {},
   "outputs": [
    {
     "data": {
      "text/plain": [
       "array([98.61200981, 98.14824836, 98.72227513, ..., 97.73409721,\n",
       "       98.61131701, 98.71986489])"
      ]
     },
     "execution_count": 9,
     "metadata": {},
     "output_type": "execute_result"
    }
   ],
   "source": [
    "# Seed the random number generator:\n",
    "np.random.seed(42)\n",
    "\n",
    "\n",
    "# Simulate a random sample with the computed statistics and size of 10,000:\n",
    "normal = np.random.normal(temp_mean, temp_std, 10000)\n",
    "normal"
   ]
  },
  {
   "cell_type": "code",
   "execution_count": 10,
   "metadata": {},
   "outputs": [],
   "source": [
    "# Define of function to compute the CDF:\n",
    "\n",
    "def ecdf(data):\n",
    "    \"\"\"Compute CDF for a 1-dimensional array of measurements.\"\"\"\n",
    "\n",
    "    # Number of data points:\n",
    "    n = len(data)\n",
    "\n",
    "    # x-data for the CDF:\n",
    "    x = np.sort(data)\n",
    "\n",
    "    # y-data for the CDF:\n",
    "    y = np.arange(1, n+1) / n\n",
    "\n",
    "    return x, y"
   ]
  },
  {
   "cell_type": "code",
   "execution_count": 11,
   "metadata": {},
   "outputs": [
    {
     "data": {
      "image/png": "[encoded data removed]",
      "text/plain": [
       "<Figure size 432x288 with 1 Axes>"
      ]
     },
     "metadata": {},
     "output_type": "display_data"
    }
   ],
   "source": [
    "# Compute ECDFs:\n",
    "x_temp, y_temp = ecdf(temp)\n",
    "x_theor, y_theor = ecdf(normal)\n",
    "\n",
    "# Plot both CDFs on the same plot:\n",
    "_ = plt.plot(x_theor, y_theor)\n",
    "_ = plt.plot(x_temp, y_temp, marker='.', linestyle='none')\n",
    "\n",
    "# Label axes and add legend and a title:\n",
    "_ = plt.xlabel('Temperature ($^\\circ$F)')\n",
    "_ = plt.ylabel('CDF')\n",
    "_ = plt.legend(('Theoretical CDF', 'Sample CDF'), loc='upper left')\n",
    "#_ = plt.title('ECDF Confirming the Normal Distribution of Body Temperatures', color='green')\n",
    "\n",
    "#Display the plots:\n",
    "plt.margins(0.02)\n",
    "plt.show()"
   ]
  },
  {
   "cell_type": "code",
   "execution_count": 12,
   "metadata": {},
   "outputs": [
    {
     "name": "stdout",
     "output_type": "stream",
     "text": [
      "t-statistic: -5.4548232923645195\n",
      "p-value: 2.4106320415561276e-07\n"
     ]
    }
   ],
   "source": [
    "# Compute results of a one sample t-test:\n",
    "t = stats.ttest_1samp(temp, 98.6)[0]\n",
    "p = stats.ttest_1samp(temp, 98.6)[1]\n",
    "\n",
    "print('t-statistic:', t)\n",
    "print('p-value:', p)"
   ]
  },
  {
   "cell_type": "code",
   "execution_count": 13,
   "metadata": {},
   "outputs": [
    {
     "name": "stdout",
     "output_type": "stream",
     "text": [
      "-3.3675464541818454 3.367546454181878\n"
     ]
    }
   ],
   "source": [
    "# Print the quantiles of the t-distribution corresponding to\n",
    "# confidence level and degrees of freedom:\n",
    "print((stats.t.ppf(q=0.0005, df=n-1)), (stats.t.ppf(q=0.9995, df=n-1)))"
   ]
  },
  {
   "cell_type": "code",
   "execution_count": 14,
   "metadata": {},
   "outputs": [],
   "source": [
    "# Compute standard error of the mean:\n",
    "sem = temp_std/np.sqrt(n)"
   ]
  },
  {
   "cell_type": "code",
   "execution_count": 15,
   "metadata": {},
   "outputs": [
    {
     "name": "stdout",
     "output_type": "stream",
     "text": [
      "z-statistic: -5.4759252020785585\n",
      "p-value: 4.3523151658713056e-08\n"
     ]
    }
   ],
   "source": [
    "# Calculate and save z-statistic:\n",
    "z = (temp_mean - 98.6) / sem\n",
    "\n",
    "# Calculate and save p-value:\n",
    "p = stats.norm.cdf(z) * 2\n",
    "\n",
    "# Print the values for z and p:\n",
    "print('z-statistic:', z)\n",
    "print('p-value:', p)"
   ]
  },
  {
   "cell_type": "code",
   "execution_count": null,
   "metadata": {},
   "outputs": [],
   "source": []
  }
 ],
 "metadata": {
  "kernelspec": {
   "display_name": "Python 3",
   "language": "python",
   "name": "python3"
  },
  "language_info": {
   "codemirror_mode": {
    "name": "ipython",
    "version": 3
   },
   "file_extension": ".py",
   "mimetype": "text/x-python",
   "name": "python",
   "nbconvert_exporter": "python",
   "pygments_lexer": "ipython3",
   "version": "3.7.3"
  }
 },
 "nbformat": 4,
 "nbformat_minor": 2
}
